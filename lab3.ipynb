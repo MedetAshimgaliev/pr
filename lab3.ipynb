{
 "cells": [
  {
   "cell_type": "markdown",
   "metadata": {
    "collapsed": true
   },
   "source": [
    "# Mathematical logic (cont.)\n",
    "## Tasks\n",
    "* Make the family tree of Lannisters and \n",
    "    * test imbreeding logic statements, where C(x,y) - x is the child of y and P(x,y) - x is the child of y \n",
    "    * test root logic statement\n",
    "    * make an interactive interface that manages the familty tree"
   ]
  },
  {
   "cell_type": "markdown",
   "metadata": {
    "collapsed": true
   },
   "source": [
    "![logic_lannister_formula.png](attachment:logic_lannister_formula.png)"
   ]
  },
  {
   "cell_type": "markdown",
   "metadata": {},
   "source": [
    "![1367859445_1758140565.gif](attachment:1367859445_1758140565.gif)"
   ]
  },
  {
   "cell_type": "markdown",
   "metadata": {},
   "source": [
    "## Example of relationship graph"
   ]
  },
  {
   "cell_type": "code",
   "execution_count": 5,
   "metadata": {
    "collapsed": false
   },
   "outputs": [
    {
     "name": "stdout",
     "output_type": "stream",
     "text": [
      "Y\n",
      "-\n",
      "4\n",
      "5\n",
      "7\n",
      "1\n",
      "6\n",
      "2\n"
     ]
    }
   ],
   "source": [
    "from pyDatalog import pyDatalog\n",
    "import logging\n",
    "from pyDatalog import pyEngine\n",
    "pyEngine.Logging = False\n",
    "logging.basicConfig(level=logging.INFO)\n",
    "pyDatalog.create_terms('link, can_reach,X,Y,Z')\n",
    "+link(1,2)\n",
    "+link(2,3)\n",
    "+link(2,4)\n",
    "+link(2,5)\n",
    "+link(5,6)\n",
    "+link(6,7)\n",
    "+link(7,2)\n",
    "link(X,Y) <= link(Y,X)\n",
    "can_reach(X,Y) <= link(X,Y)\n",
    "can_reach(X,Y) <= link(X,Z) & can_reach(Z,Y) & (X!=Y)\n",
    "print (can_reach(Y,3))"
   ]
  },
  {
   "cell_type": "code",
   "execution_count": 4,
   "metadata": {
    "collapsed": false
   },
   "outputs": [
    {
     "ename": "ModuleNotFoundError",
     "evalue": "No module named 'sqlalchemy'",
     "output_type": "error",
     "traceback": [
      "\u001b[1;31m---------------------------------------------------------------------------\u001b[0m",
      "\u001b[1;31mModuleNotFoundError\u001b[0m                       Traceback (most recent call last)",
      "\u001b[1;32m<ipython-input-4-df305429395b>\u001b[0m in \u001b[0;36m<module>\u001b[1;34m()\u001b[0m\n\u001b[1;32m----> 1\u001b[1;33m \u001b[1;32mfrom\u001b[0m \u001b[0msqlalchemy\u001b[0m\u001b[1;33m.\u001b[0m\u001b[0mext\u001b[0m\u001b[1;33m.\u001b[0m\u001b[0mdeclarative\u001b[0m \u001b[1;32mimport\u001b[0m \u001b[0mdeclarative_base\u001b[0m\u001b[1;33m\u001b[0m\u001b[0m\n\u001b[0m\u001b[0;32m      2\u001b[0m \u001b[1;32mfrom\u001b[0m \u001b[0msqlalchemy\u001b[0m \u001b[1;32mimport\u001b[0m \u001b[0mcreate_engine\u001b[0m\u001b[1;33m\u001b[0m\u001b[0m\n\u001b[0;32m      3\u001b[0m \u001b[1;32mfrom\u001b[0m \u001b[0msqlalchemy\u001b[0m\u001b[1;33m.\u001b[0m\u001b[0morm\u001b[0m \u001b[1;32mimport\u001b[0m \u001b[0msessionmaker\u001b[0m\u001b[1;33m\u001b[0m\u001b[0m\n\u001b[0;32m      4\u001b[0m \u001b[1;32mfrom\u001b[0m \u001b[0msqlalchemy\u001b[0m \u001b[1;32mimport\u001b[0m \u001b[0mColumn\u001b[0m\u001b[1;33m,\u001b[0m \u001b[0mInteger\u001b[0m\u001b[1;33m,\u001b[0m \u001b[0mString\u001b[0m\u001b[1;33m,\u001b[0m \u001b[0mForeignKey\u001b[0m\u001b[1;33m\u001b[0m\u001b[0m\n\u001b[0;32m      5\u001b[0m \u001b[1;32mfrom\u001b[0m \u001b[0mipywidgets\u001b[0m \u001b[1;32mimport\u001b[0m \u001b[0minteract_manual\u001b[0m\u001b[1;33m\u001b[0m\u001b[0m\n",
      "\u001b[1;31mModuleNotFoundError\u001b[0m: No module named 'sqlalchemy'"
     ]
    }
   ],
   "source": [
    " from sqlalchemy.ext.declarative import declarative_base\n",
    "from sqlalchemy import create_engine\n",
    "from sqlalchemy.orm import sessionmaker\n",
    "from sqlalchemy import Column, Integer, String, ForeignKey\n",
    "from ipywidgets import interact_manual\n",
    "\n",
    "# define a base class with SQLAlchemy and pyDatalog capabilities\n",
    "Base = declarative_base(cls=pyDatalog.Mixin, metaclass=pyDatalog.sqlMetaMixin)\n",
    "# create database in memory\n",
    "engine = create_engine('sqlite:///:memory:', echo=False)\n",
    "\n",
    "# open a session on a database, then associate it to the Base class\n",
    "Session = sessionmaker(bind=engine)\n",
    "session = Session()\n",
    "Base.session = session\n",
    "\n",
    "class Person(Base): # Employee inherits from the Base class\n",
    "    __tablename__ = 'person' # data are stored in the Employee table\n",
    "\n",
    "    name = Column(String, primary_key=True)\n",
    "#     manager_name = Column(String, ForeignKey('employee.name'))\n",
    "#     salary = Column(Integer)\n",
    "    def __init__(self, name): \n",
    "        # call the initialization method of the Mixin class\n",
    "        super(Person, self).__init__()\n",
    "        self.name = name\n",
    "#         self.manager = manager     # direct manager of the employee, or None\n",
    "#         self.salary = salary       # monthly salary of the employee\n",
    "    \n",
    "    def __repr__(self): # specifies how to display an Employee\n",
    "        return self.name\n",
    "    \n",
    "# now create the table\n",
    "Base.metadata.create_all(engine)\n",
    "pyDatalog.create_terms('married, bros, c, p, X, Y, Z, W, unnormal')\n",
    "\n",
    "Tywin = Person('Tywin')\n",
    "Joanna = Person('Jaonna')\n",
    "Tyrion = Person('Tyrion')\n",
    "Jaime = Person('Jaime')\n",
    "Cercei = Person('Cercei')\n",
    "Tommen = Person('Tommen')\n",
    "Myrcella = Person('Myrcella')\n",
    "Joffrey = Person('Joffrey')\n",
    "\n",
    "+p(Tywin, Tyrion)\n",
    "+p(Tywin, Jaime)\n",
    "+p(Tywin, Cercei)\n",
    "+p(Joanna, Tyrion)\n",
    "+p(Joanna, Jaime)\n",
    "+p(Joanna, Cercei)\n",
    "+p(Jaime, Tommen)\n",
    "+p(Jaime, Myrcella)\n",
    "+p(Jaime, Joffrey)\n",
    "+p(Cercei, Tommen)\n",
    "+p(Cercei, Myrcella)\n",
    "+p(Cercei, Joffrey)\n",
    "\n",
    "persons = []\n",
    "def add_person(name):\n",
    "    for person in persons:\n",
    "        if person.name == name:\n",
    "            return person\n",
    "    print(\"Created \" + name)\n",
    "    result = Person(name)\n",
    "    persons.append(result)\n",
    "    return result\n",
    "\n",
    "# + has_car(Mary)\n",
    "# + married(Mary,John)\n",
    "#print(has_car(X))\n",
    "\n",
    "# link(X,Y) <= link(Y,X)\n",
    "# can_reach(X,Y) <= link(X,Y)\n",
    "# can_reach(X,Y) <= link(X,Z) & can_reach(Z,Y) & (X!=Y)"
   ]
  },
  {
   "cell_type": "code",
   "execution_count": 27,
   "metadata": {
    "collapsed": false
   },
   "outputs": [
    {
     "data": {
      "application/vnd.jupyter.widget-view+json": {
       "model_id": "8c30d18bfe094e14805aec458e2f8e09",
       "version_major": 2,
       "version_minor": 0
      },
      "text/html": [
       "<p>Failed to display Jupyter Widget of type <code>interactive</code>.</p>\n",
       "<p>\n",
       "  If you're reading this message in Jupyter Notebook or JupyterLab, it may mean\n",
       "  that the widgets JavaScript is still loading. If this message persists, it\n",
       "  likely means that the widgets JavaScript library is either not installed or\n",
       "  not enabled. See the <a href=\"https://ipywidgets.readthedocs.io/en/stable/user_install.html\">Jupyter\n",
       "  Widgets Documentation</a> for setup instructions.\n",
       "</p>\n",
       "<p>\n",
       "  If you're reading this message in another notebook frontend (for example, a static\n",
       "  rendering on GitHub or <a href=\"https://nbviewer.jupyter.org/\">NBViewer</a>),\n",
       "  it may mean that your frontend doesn't currently support widgets.\n",
       "</p>\n"
      ],
      "text/plain": [
       "interactive(children=(Text(value='', description='person'), Button(description='Run Interact', style=ButtonStyle()), Output()), _dom_classes=('widget-interact',))"
      ]
     },
     "metadata": {},
     "output_type": "display_data"
    }
   ],
   "source": [
    "married(X,Y) <= married(Y,X)\n",
    "+p('parent', 'child')\n",
    "\n",
    "\n",
    "bros(X, Y) <= p(Z, X) & p(Z, Y)\n",
    "married(X,Y) <= p(X,Z) & p(Y,Z) & (X!=Y)\n",
    "unnormal(X,Z) <= p(X,Y) & p(Z,Y) & (X!=Z) & p(W,X) & p(W,Z) \n",
    "\n",
    "\n",
    "\n",
    "@interact_manual\n",
    "def get_input(person=''):\n",
    "    person1 = add_person(person)\n",
    "    #print(c(X, Y))\n",
    "    print(married(X,Y))\n",
    "    print(bros(X,Y))\n",
    "    print(unnormal(X,Y))\n"
   ]
  },
  {
   "cell_type": "code",
   "execution_count": null,
   "metadata": {
    "collapsed": true
   },
   "outputs": [],
   "source": []
  }
 ],
 "metadata": {
  "anaconda-cloud": {},
  "kernelspec": {
   "display_name": "Python [default]",
   "language": "python",
   "name": "python3"
  },
  "language_info": {
   "codemirror_mode": {
    "name": "ipython",
    "version": 3
   },
   "file_extension": ".py",
   "mimetype": "text/x-python",
   "name": "python",
   "nbconvert_exporter": "python",
   "pygments_lexer": "ipython3",
   "version": "3.5.2"
  }
 },
 "nbformat": 4,
 "nbformat_minor": 2
}
